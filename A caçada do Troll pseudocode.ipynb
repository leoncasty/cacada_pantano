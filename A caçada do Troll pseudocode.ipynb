{
 "cells": [
  {
   "cell_type": "code",
   "execution_count": null,
   "id": "dab73b55",
   "metadata": {},
   "outputs": [],
   "source": [
    "\"\"\"Criar um jogo em modo de RPG de turno para uma batalha no pantano\n",
    "-> criar serie de textos dando o backgraund da historia\n",
    "-> criar opção de escolha de classe\n",
    "--> print(historia) a cada enter do usuario\n",
    "\n",
    "O jogador: faz a escolha de sua clase entre 3 opções (guerreiro, mago ou arqueiro). Cada uma com seus atributos e devidas habilidades (lista)\n",
    "Os atributos devem estar salvos de alguma maneira no Jogador para que possamos adicionar e tirar vida\n",
    "-> Criar algo que contenha as informações do jogador (classe talvez) e que possa ser mutavel\n",
    "-> Criar lista de golpes do jogador em formato de funções que reduzam a vida do monstro ou apliquem efeitos. \n",
    "-> Criar condição que se o jogador tiver seus PV zerados ele morre e pode tentar novamente\n",
    "--> j = Jogador (PV,PM, [atq basico], [atq especial])\n",
    "--> if j(PV) <= 0 \n",
    "        voce morreu\n",
    "\n",
    "O monstro: possui atributos e habilidades assim como o Jogador entretando deve executar ataques RANDOMICOS entre suas opções desponiveis\n",
    "-> Criar algo que contenha as informações do Monstro assim como do jogador\n",
    "-> Criar lista de golpes do monstro que sejam executados randomicamente a cada turno da batalha. \n",
    "-> Criar condição que se o monstro tiver seus PV zerados ele morre e o jogador ganha.\n",
    "--> m = Monstro (PV,PM, [atq basico], [atq especial], se curar)\n",
    "--> if J usa atq basico M usa random Atk\n",
    "--> if m(PV) <= 0 \n",
    "        o jogador venceu a batalha\n",
    "\n",
    "-> historia final do jogo\n",
    "-> você subiu de nivel\n",
    "-> tocar musica de encerramento\n",
    "\n",
    "\n",
    "\"\"\""
   ]
  }
 ],
 "metadata": {
  "kernelspec": {
   "display_name": "Python 3 (ipykernel)",
   "language": "python",
   "name": "python3"
  },
  "language_info": {
   "codemirror_mode": {
    "name": "ipython",
    "version": 3
   },
   "file_extension": ".py",
   "mimetype": "text/x-python",
   "name": "python",
   "nbconvert_exporter": "python",
   "pygments_lexer": "ipython3",
   "version": "3.9.12"
  },
  "varInspector": {
   "cols": {
    "lenName": 16,
    "lenType": 16,
    "lenVar": 40
   },
   "kernels_config": {
    "python": {
     "delete_cmd_postfix": "",
     "delete_cmd_prefix": "del ",
     "library": "var_list.py",
     "varRefreshCmd": "print(var_dic_list())"
    },
    "r": {
     "delete_cmd_postfix": ") ",
     "delete_cmd_prefix": "rm(",
     "library": "var_list.r",
     "varRefreshCmd": "cat(var_dic_list()) "
    }
   },
   "types_to_exclude": [
    "module",
    "function",
    "builtin_function_or_method",
    "instance",
    "_Feature"
   ],
   "window_display": false
  }
 },
 "nbformat": 4,
 "nbformat_minor": 5
}
