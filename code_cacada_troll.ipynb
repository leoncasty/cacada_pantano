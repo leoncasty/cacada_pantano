{
 "cells": [
  {
   "cell_type": "code",
   "execution_count": null,
   "id": "9b0a4c78",
   "metadata": {},
   "outputs": [],
   "source": [
    "\"\"\"Criar um jogo em modo de RPG de turno para uma batalha no pantano\n",
    "-> criar serie de textos dando o backgraund da historia\n",
    "-> criar opção de escolha de classe\n",
    "--> print(historia) a cada enter do usuario\n",
    "\n",
    "O jogador: faz a escolha de sua clase entre 3 opções (guerreiro, mago ou arqueiro). Cada uma com seus atributos e devidas habilidades (lista)\n",
    "Os atributos devem estar salvos de alguma maneira no Jogador para que possamos adicionar e tirar vida\n",
    "-> Criar algo que contenha as informações do jogador (classe talvez) e que possa ser mutavel\n",
    "-> Criar lista de golpes do jogador em formato de funções que reduzam a vida do monstro ou apliquem efeitos. \n",
    "-> Criar condição que se o jogador tiver seus PV zerados ele morre e pode tentar novamente\n",
    "--> j = Jogador (PV,PM, [atq basico], [atq especial])\n",
    "--> if j(PV) <= 0 \n",
    "        voce morreu\n",
    "\n",
    "O monstro: possui atributos e habilidades assim como o Jogador entretando deve executar ataques RANDOMICOS entre suas opções desponiveis\n",
    "-> Criar algo que contenha as informações do Monstro assim como do jogador\n",
    "-> Criar lista de golpes do monstro que sejam executados randomicamente a cada turno da batalha. \n",
    "-> Criar condição que se o monstro tiver seus PV zerados ele morre e o jogador ganha.\n",
    "--> m = Monstro (PV,PM, [atq basico], [atq especial], se curar)\n",
    "--> if J usa atq basico M usa random Atk\n",
    "--> if m(PV) <= 0 \n",
    "        o jogador venceu a batalha\n",
    "\n",
    "-> historia final do jogo\n",
    "-> você subiu de nivel\n",
    "-> tocar musica de encerramento\n",
    "\n",
    "*adicionar assim que der um sistema randomico para os ataques, criar um dado de 1 a 21 onde quem tirar o maior número acerta/defende e no qual 21 é um acerto critico e 1 é um erro critico\n",
    "\"\"\""
   ]
  },
  {
   "cell_type": "code",
   "execution_count": null,
   "id": "20f08b69",
   "metadata": {},
   "outputs": [],
   "source": [
    "\"\"\"Task list:\n",
    "\n",
    "- criar sistema de input ou outra ferramenta que o usuario possa escolher sua classe XX\n",
    "\n",
    "- criar dicionarios para reserva de atributos XXX\n",
    "\n",
    "- criar funções de combate basicas que alteram os status dos dicionarios \n",
    "\n",
    "- criar estrutura de turno loop: momento 1 - função de combate jogador, momento 2 - função de combate monstro, momento 3 - função de combate jogador\n",
    "\n",
    "- o loop ocorre até que o status 'vida' de um dos dicionarios seja == 0 \n",
    "\n",
    "- criar a condição: if jogador['vida'] == você perdeu, jogar novamente? \n",
    "                        else você venceu, receba seu premio!!!\n",
    "\n",
    "\"\"\"\n"
   ]
  },
  {
   "cell_type": "markdown",
   "id": "10426fa5",
   "metadata": {},
   "source": [
    "BLOCO DE CLASSES"
   ]
  },
  {
   "cell_type": "code",
   "execution_count": 1,
   "id": "59cd1c3e",
   "metadata": {
    "ExecuteTime": {
     "end_time": "2022-08-14T12:04:22.515900Z",
     "start_time": "2022-08-14T12:04:22.509900Z"
    }
   },
   "outputs": [],
   "source": [
    "#rodar bloco\n",
    "#Profissoes que o jogador pode escolher deve ser um dicionario que reserva valores mutaveis\n",
    "\n",
    "guerreiro = {'vida':50, 'mana':10, 'ataque':20, 'defesa':15}\n",
    "mago = {'vida':30, 'mana':30, 'ataque':25, 'defesa':5}\n",
    "arqueiro = {'vida':35, 'mana':20, 'ataque':20, 'defesa':10}\n",
    "\n",
    "#O monstro\n",
    "\n",
    "troll = {'vida':300, 'mana':100, 'ataque':10, 'defesa':10}    "
   ]
  },
  {
   "cell_type": "code",
   "execution_count": 2,
   "id": "e6684066",
   "metadata": {
    "ExecuteTime": {
     "end_time": "2022-08-14T12:04:25.009881Z",
     "start_time": "2022-08-14T12:04:24.998881Z"
    }
   },
   "outputs": [],
   "source": [
    "#rodar bloco\n",
    "\n",
    "classe_escolhida = {}\n",
    "\n",
    "def escolha_classe():\n",
    "    \n",
    "    \"\"\"Essa função é responssavel pela escolha de classe do Jogador\n",
    "    Loop tem um erro no qual se o jogador digitar qualquer coisa ele se torna arqueiro\n",
    "    pedir ajuda para consertar\"\"\"\n",
    "    \n",
    "    escolha = str(input(\"Escolha sua classe entre guerreiro, mago ou arqueiro: \" ))\n",
    "    global classe_escolhida\n",
    "    \n",
    "    if escolha == 'guerreiro':\n",
    "        classe_escolhida = guerreiro\n",
    "        \n",
    "    elif escolha == 'mago':\n",
    "        classe_escolhida = mago\n",
    "        \n",
    "    else: \n",
    "        classe_escolhida = arqueiro\n",
    "        \n",
    "    #else:\n",
    "    #    while classe_escolhida != guerreiro and mago and arqueiro:\n",
    "    #        print('Insira uma classe valida.')\n",
    "    #        escolha_classe()"
   ]
  },
  {
   "cell_type": "code",
   "execution_count": 3,
   "id": "e6979ebe",
   "metadata": {
    "ExecuteTime": {
     "end_time": "2022-08-14T12:04:32.502955Z",
     "start_time": "2022-08-14T12:04:27.765547Z"
    }
   },
   "outputs": [
    {
     "name": "stdout",
     "output_type": "stream",
     "text": [
      "Escolha sua classe entre guerreiro, mago ou arqueiro: guerreiro\n"
     ]
    }
   ],
   "source": [
    "#teste\n",
    "escolha_classe()"
   ]
  },
  {
   "cell_type": "code",
   "execution_count": 4,
   "id": "fd9aee74",
   "metadata": {
    "ExecuteTime": {
     "end_time": "2022-08-14T12:04:34.656305Z",
     "start_time": "2022-08-14T12:04:34.639298Z"
    }
   },
   "outputs": [
    {
     "name": "stdout",
     "output_type": "stream",
     "text": [
      "{'vida': 50, 'mana': 10, 'ataque': 20, 'defesa': 15}\n"
     ]
    }
   ],
   "source": [
    "#teste\n",
    "print(classe_escolhida)"
   ]
  },
  {
   "cell_type": "markdown",
   "id": "72789284",
   "metadata": {},
   "source": [
    "BLOCO DE GOLPES"
   ]
  },
  {
   "cell_type": "code",
   "execution_count": 21,
   "id": "92a9e92a",
   "metadata": {
    "ExecuteTime": {
     "end_time": "2022-08-14T12:24:19.982446Z",
     "start_time": "2022-08-14T12:24:19.966443Z"
    }
   },
   "outputs": [],
   "source": [
    "#rodar bloco\n",
    "\n",
    "ataque_basico = classe_escolhida['ataque'] * 1\n",
    "ataque_especial = classe_escolhida['ataque'] * 2\n",
    "\n",
    "def ataques_guerreiro():\n",
    "    \"\"\"Essa função é responssavel pelo jogador escolher o golpe que ira usar no presente turno \n",
    "    está funcionando o esquema de reduzir a vida do troll\"\"\"\n",
    "\n",
    "    ataque = str(input(\"Escolha seu movimento -> ataque basico, ataque especial, passar a vez: \" ))\n",
    "\n",
    "    if ataque == 'ataque basico':\n",
    "        troll['vida'] = troll['vida'] - (ataque_basico - troll['defesa'])\n",
    "        print(f'O Troll recebeu {ataque_basico} de dano!')\n",
    "    elif ataque == 'ataque especial':\n",
    "        troll['vida'] = troll['vida'] - (ataque_especial - troll['defesa'])\n",
    "        print(f'O Troll recebeu {ataque_especial} de dano!')\n",
    "    else: \n",
    "        print('Você passou o turno.')\n"
   ]
  },
  {
   "cell_type": "code",
   "execution_count": 19,
   "id": "cd1b46a0",
   "metadata": {
    "ExecuteTime": {
     "end_time": "2022-08-14T12:22:51.289628Z",
     "start_time": "2022-08-14T12:22:30.645544Z"
    }
   },
   "outputs": [
    {
     "name": "stdout",
     "output_type": "stream",
     "text": [
      "Escolha seu movimento: ataque basico, ataque especial, escudo: ataque basico\n",
      "O Troll recebeu 20 de dano!\n"
     ]
    }
   ],
   "source": [
    "#teste\n",
    "ataques_guerreiro()"
   ]
  },
  {
   "cell_type": "code",
   "execution_count": 22,
   "id": "8f47ca07",
   "metadata": {
    "ExecuteTime": {
     "end_time": "2022-08-14T12:24:22.505302Z",
     "start_time": "2022-08-14T12:24:22.501301Z"
    }
   },
   "outputs": [
    {
     "data": {
      "text/plain": [
       "230"
      ]
     },
     "execution_count": 22,
     "metadata": {},
     "output_type": "execute_result"
    }
   ],
   "source": [
    "#teste\n",
    "troll['vida']"
   ]
  },
  {
   "cell_type": "code",
   "execution_count": null,
   "id": "8e7cfcc2",
   "metadata": {},
   "outputs": [],
   "source": [
    "#rodar bloco\n",
    "\n",
    "ataque_basico = classe_escolhida['ataque'] * 1\n",
    "ataque_especial = classe_escolhida['ataque'] * 2\n",
    "\n",
    "def ataques_troll():\n",
    "    \"\"\"Essa função é responssavel pelos ataques randomicos do troll no presente turno \n",
    "    \"\"\"\n",
    "\n",
    "    ataque = str(input(\"Escolha seu movimento -> ataque basico, ataque especial, passar a vez: \" ))\n",
    "\n",
    "    if ataque == 'ataque basico':\n",
    "        troll['vida'] = troll['vida'] - (ataque_basico - troll['defesa'])\n",
    "        print(f'O Troll recebeu {ataque_basico} de dano!')\n",
    "    elif ataque == 'ataque especial':\n",
    "        troll['vida'] = troll['vida'] - (ataque_especial - troll['defesa'])\n",
    "        print(f'O Troll recebeu {ataque_especial} de dano!')\n",
    "    else: \n",
    "        print('Você passou o turno.')"
   ]
  }
 ],
 "metadata": {
  "kernelspec": {
   "display_name": "Python 3 (ipykernel)",
   "language": "python",
   "name": "python3"
  },
  "language_info": {
   "codemirror_mode": {
    "name": "ipython",
    "version": 3
   },
   "file_extension": ".py",
   "mimetype": "text/x-python",
   "name": "python",
   "nbconvert_exporter": "python",
   "pygments_lexer": "ipython3",
   "version": "3.9.12"
  },
  "varInspector": {
   "cols": {
    "lenName": 16,
    "lenType": 16,
    "lenVar": 40
   },
   "kernels_config": {
    "python": {
     "delete_cmd_postfix": "",
     "delete_cmd_prefix": "del ",
     "library": "var_list.py",
     "varRefreshCmd": "print(var_dic_list())"
    },
    "r": {
     "delete_cmd_postfix": ") ",
     "delete_cmd_prefix": "rm(",
     "library": "var_list.r",
     "varRefreshCmd": "cat(var_dic_list()) "
    }
   },
   "types_to_exclude": [
    "module",
    "function",
    "builtin_function_or_method",
    "instance",
    "_Feature"
   ],
   "window_display": false
  }
 },
 "nbformat": 4,
 "nbformat_minor": 5
}
