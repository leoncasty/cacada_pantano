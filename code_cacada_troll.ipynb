{
 "cells": [
  {
   "cell_type": "code",
   "execution_count": null,
   "id": "9b0a4c78",
   "metadata": {},
   "outputs": [],
   "source": [
    "#pseudocode\n",
    "\n",
    "\"\"\"Criar um jogo em modo de RPG de turno para uma batalha no pantano\n",
    "-> criar serie de textos dando o backgraund da historia\n",
    "\n",
    "O jogador: faz a escolha de sua clase entre 3 opções (guerreiro, mago ou arqueiro). Cada uma com seus atributos e devidas habilidades (lista)\n",
    "Os atributos devem estar salvos de alguma maneira no Jogador para que possamos adicionar e tirar vida\n",
    "-> Criar algo que contenha as informações do jogador (classe talvez) e que possa ser mutavel\n",
    "-> Criar lista de golpes do jogador em formato de funções que reduzam a vida do monstro ou apliquem efeitos. \n",
    "-> Criar condição que se o jogador tiver seus PV zerados ele morre e pode tentar novamente\n",
    "--> j = Jogador (PV,PM, [atq basico], [atq especial])\n",
    "--> if j(PV) <= 0 \n",
    "        voce morreu\n",
    "\n",
    "O monstro: possui atributos e habilidades assim como o Jogador entretando deve executar ataques RANDOMICOS entre suas opções desponiveis\n",
    "-> Criar algo que contenha as informações do Monstro assim como do jogador\n",
    "-> Criar lista de golpes do monstro que sejam executados randomicamente a cada turno da batalha. \n",
    "-> Criar condição que se o monstro tiver seus PV zerados ele morre e o jogador ganha.\n",
    "--> m = Monstro (PV,PM, [atq basico], [atq especial], se curar)\n",
    "--> if J usa atq basico M usa random Atk\n",
    "--> if m(PV) <= 0 \n",
    "        o jogador venceu a batalha\n",
    "\n",
    "-> historia final do jogo\n",
    "-> você subiu de nivel\n",
    "-> tocar musica de encerramento\n",
    "\n",
    "*adicionar assim que der um sistema randomico para os ataques, criar um dado de 1 a 21 onde quem tirar o maior número acerta/defende e no qual 21 é um acerto critico e 1 é um erro critico\n",
    "\"\"\""
   ]
  },
  {
   "cell_type": "code",
   "execution_count": null,
   "id": "20f08b69",
   "metadata": {},
   "outputs": [],
   "source": [
    "# Task List do jogo\n",
    "\"\"\"\n",
    "- criar sistema de input ou outra ferramenta que o usuario possa escolher sua classe [em progresso]: falta restringir respostas erradas\n",
    "\n",
    "- criar dicionarios para reserva de atributos [feito]\n",
    "\n",
    "- criar funções de combate basicas que alteram os status dos dicionarios [em progresso]: criar classes mago e arqueiro\n",
    "\n",
    "- adicionar variavel de dano para funções de combate [a fazer]\n",
    "\n",
    "- criar estrutura de turno para rodar o jogo [feito]\n",
    "\n",
    "- implementar contador de vida a cada turno do combate para melhorar a experiancia do jogador [a fazer]\n",
    "\n",
    "- implementar sistema de acerto e erro por meio de uma função de dado [a fazer]\n",
    "\n",
    "- melhorar historia e dialogos durante o jogo [a fazer]                        \n",
    "\n",
    "\"\"\"\n"
   ]
  },
  {
   "cell_type": "code",
   "execution_count": null,
   "id": "bb342671",
   "metadata": {
    "ExecuteTime": {
     "end_time": "2022-08-15T14:08:25.257244Z",
     "start_time": "2022-08-15T14:08:25.240249Z"
    }
   },
   "outputs": [],
   "source": [
    "import random "
   ]
  },
  {
   "cell_type": "markdown",
   "id": "10426fa5",
   "metadata": {},
   "source": [
    "BLOCO DE CLASSES"
   ]
  },
  {
   "cell_type": "code",
   "execution_count": null,
   "id": "59cd1c3e",
   "metadata": {
    "ExecuteTime": {
     "end_time": "2022-08-15T14:08:39.855447Z",
     "start_time": "2022-08-15T14:08:39.848446Z"
    }
   },
   "outputs": [],
   "source": [
    "#rodar bloco\n",
    "#Profissoes que o jogador pode escolher deve ser um dicionario que reserva valores mutaveis\n",
    "\n",
    "guerreiro = {'vida':50, 'mana':10, 'ataque':20, 'defesa':15}\n",
    "mago = {'vida':30, 'mana':30, 'ataque':25, 'defesa':5}\n",
    "arqueiro = {'vida':35, 'mana':20, 'ataque':20, 'defesa':10}\n",
    "\n",
    "#O monstro\n",
    "\n",
    "troll = {'vida':150, 'mana':100, 'ataque':20, 'defesa':10}    "
   ]
  },
  {
   "cell_type": "code",
   "execution_count": null,
   "id": "e6684066",
   "metadata": {
    "ExecuteTime": {
     "end_time": "2022-08-15T14:08:57.173720Z",
     "start_time": "2022-08-15T14:08:57.167721Z"
    }
   },
   "outputs": [],
   "source": [
    "#rodar bloco\n",
    "\n",
    "classe_escolhida = {}\n",
    "\n",
    "def escolha_classe():\n",
    "    \n",
    "    \"\"\"Essa função é responssavel pela escolha de classe do Jogador\n",
    "    Loop tem um erro no qual se o jogador digitar qualquer coisa ele se torna arqueiro\n",
    "    pedir ajuda para consertar\"\"\"\n",
    "    \n",
    "    escolha = str(input(\"Escolha sua classe entre guerreiro, mago ou arqueiro: \" ))\n",
    "    global classe_escolhida\n",
    "    \n",
    "    if escolha == 'guerreiro':\n",
    "        classe_escolhida = guerreiro\n",
    "        \n",
    "    elif escolha == 'mago':\n",
    "        classe_escolhida = mago\n",
    "        \n",
    "    else: \n",
    "        classe_escolhida = arqueiro\n",
    "        \n",
    "    #else:\n",
    "    #    while classe_escolhida != guerreiro and mago and arqueiro:\n",
    "    #        print('Insira uma classe valida.')\n",
    "    #        escolha_classe()"
   ]
  },
  {
   "cell_type": "code",
   "execution_count": null,
   "id": "e6979ebe",
   "metadata": {
    "ExecuteTime": {
     "end_time": "2022-08-15T14:10:53.936954Z",
     "start_time": "2022-08-15T14:10:50.240288Z"
    }
   },
   "outputs": [],
   "source": [
    "#rodar bloco\n",
    "escolha_classe()"
   ]
  },
  {
   "cell_type": "code",
   "execution_count": null,
   "id": "fd9aee74",
   "metadata": {
    "ExecuteTime": {
     "end_time": "2022-08-15T13:34:09.008426Z",
     "start_time": "2022-08-15T13:34:09.001418Z"
    }
   },
   "outputs": [],
   "source": [
    "#teste\n",
    "print(classe_escolhida)"
   ]
  },
  {
   "cell_type": "markdown",
   "id": "72789284",
   "metadata": {},
   "source": [
    "BLOCO DE GOLPES"
   ]
  },
  {
   "cell_type": "code",
   "execution_count": null,
   "id": "92a9e92a",
   "metadata": {
    "ExecuteTime": {
     "end_time": "2022-08-15T14:10:56.454086Z",
     "start_time": "2022-08-15T14:10:56.441085Z"
    }
   },
   "outputs": [],
   "source": [
    "#rodar bloco\n",
    "\n",
    "ataque_basico = classe_escolhida['ataque'] * 1\n",
    "ataque_especial = classe_escolhida['ataque'] * 2\n",
    "\n",
    "def ataques_guerreiro():\n",
    "    \"\"\"Essa função é responssavel pelo jogador escolher o golpe que ira usar no presente turno \n",
    "    está funcionando o esquema de reduzir a vida do troll\"\"\"\n",
    "\n",
    "    ataque = str(input(\"Escolha seu movimento -> ataque basico, ataque especial, passar a vez: \\n\" ))\n",
    "\n",
    "    if ataque == 'ataque basico':\n",
    "        troll['vida'] = troll['vida'] - (ataque_basico - troll['defesa'])\n",
    "        print(f'O Troll recebeu {ataque_basico} de dano!\\n')\n",
    "    elif ataque == 'ataque especial':\n",
    "        troll['vida'] = troll['vida'] - (ataque_especial - troll['defesa'])\n",
    "        print(f'O Troll recebeu {ataque_especial} de dano!\\n')\n",
    "    else: \n",
    "        print('Você passou o turno.\\n')\n"
   ]
  },
  {
   "cell_type": "code",
   "execution_count": null,
   "id": "cd1b46a0",
   "metadata": {
    "ExecuteTime": {
     "end_time": "2022-08-14T12:22:51.289628Z",
     "start_time": "2022-08-14T12:22:30.645544Z"
    }
   },
   "outputs": [],
   "source": [
    "#teste\n",
    "ataques_guerreiro()"
   ]
  },
  {
   "cell_type": "code",
   "execution_count": null,
   "id": "8f47ca07",
   "metadata": {
    "ExecuteTime": {
     "end_time": "2022-08-15T12:15:11.523625Z",
     "start_time": "2022-08-15T12:15:11.507624Z"
    }
   },
   "outputs": [],
   "source": [
    "#teste\n",
    "troll['vida']"
   ]
  },
  {
   "cell_type": "code",
   "execution_count": null,
   "id": "8e7cfcc2",
   "metadata": {
    "ExecuteTime": {
     "end_time": "2022-08-15T14:12:21.804036Z",
     "start_time": "2022-08-15T14:12:21.792026Z"
    }
   },
   "outputs": [],
   "source": [
    "#rodar bloco\n",
    "\n",
    "ataque_basico_troll = troll['ataque'] * 1\n",
    "ataque_especial_troll = troll['ataque'] * 2\n",
    "troll_gripado = troll['ataque'] * 0.9\n",
    "troll_cansado = 0\n",
    "\n",
    "lista_ataques_troll = (ataque_basico_troll, ataque_especial_troll, troll_gripado, troll_cansado)\n",
    "\n",
    "def ataques_troll():\n",
    "    \"\"\"Essa função é responssavel pelos ataques randomicos do troll no presente turno,\n",
    "    por meio do random.choice a funcção seleciona quanto de dano o jogador recebra e printa a ação\n",
    "    \"\"\"\n",
    "    print('O troll está pensando em como te destruir neste turno!')\n",
    "    ataque = random.choice(lista_ataques_troll)\n",
    "\n",
    "    if ataque == 20:\n",
    "        classe_escolhida['vida'] = classe_escolhida['vida'] - (20 - classe_escolhida['defesa'])\n",
    "        print('O Troll te deu uma porretada com um total de 5 de dano.\\n')\n",
    "    elif ataque == 40:\n",
    "        classe_escolhida['vida'] = classe_escolhida['vida'] - (40 - classe_escolhida['defesa'])\n",
    "        print('O Troll te tacou uma pedra dando um total de 25 de dano.\\n')\n",
    "    elif ataque == 18:\n",
    "        classe_escolhida['vida'] = classe_escolhida['vida'] - (18 - classe_escolhida['defesa'])\n",
    "        print('O Troll não gostou do seu cheiro e soltou um baita espirro!\\n Sua meleca deu um total de 3 de dano.\\n')\n",
    "    else:\n",
    "        print('O Troll estava cansado e decidiu te dar mais um turno de vida!\\n')\n",
    "        "
   ]
  },
  {
   "cell_type": "markdown",
   "id": "bf46ce85",
   "metadata": {},
   "source": [
    "BLOCO DO JOGO"
   ]
  },
  {
   "cell_type": "code",
   "execution_count": null,
   "id": "19f2d7e6",
   "metadata": {
    "ExecuteTime": {
     "end_time": "2022-08-15T14:18:05.267842Z",
     "start_time": "2022-08-15T14:18:05.248838Z"
    }
   },
   "outputs": [],
   "source": [
    "def start():\n",
    "    \n",
    "    print('Você está vagando por uma estrada em busca de comida e derrepente avista\\n uma carroça com um senhor sendo atacado por um monstro terrivel\\n')\n",
    "    print('Ele grita: O jovem me ajude por favor, este Troll vai destruir todas minhas posses!\\n')\n",
    "    escolha_classe()\n",
    "    \n",
    "    print('Você se aproxima correndo da carroça e se prepara para entrar em confronto com a besta.\\nO monstro com que você se depara é um grande Troll de aproximadamente 2 metros de altura!\\n Ele está segurando uma grande clava de madeira\\n)')\n",
    "    \n",
    "    atq_guerreiro = True\n",
    "    \n",
    "    while troll['vida'] >= 1 and classe_escolhida['vida'] >= 1:\n",
    "        if atq_guerreiro:\n",
    "            ataques_guerreiro()\n",
    "            atq_guerreiro = False\n",
    "        \n",
    "        elif atq_guerreiro == False:\n",
    "            ataques_troll()\n",
    "            atq_guerreiro = True\n",
    "            \n",
    "    if troll['vida'] < 1:\n",
    "        print ('Você derrotou a besta, receba seu premio')\n",
    "    else:\n",
    "        print ('Você é uma falha MUAHAHAHAHA!')\n",
    "        \n",
    "    reiniciar_jogo = input('Gostaria de tentar novamente? Responda com sim ou nao:')\n",
    "    if reiniciar_jogo == 'sim': \n",
    "        start()    \n",
    "    else: reiniciar_jogo == 'nao'\n",
    "    print('Game Over')\n",
    "    "
   ]
  },
  {
   "cell_type": "code",
   "execution_count": null,
   "id": "82fa1bfe",
   "metadata": {
    "ExecuteTime": {
     "end_time": "2022-08-15T14:19:26.264487Z",
     "start_time": "2022-08-15T14:18:18.135753Z"
    },
    "scrolled": false
   },
   "outputs": [],
   "source": [
    "start()"
   ]
  }
 ],
 "metadata": {
  "kernelspec": {
   "display_name": "Python 3 (ipykernel)",
   "language": "python",
   "name": "python3"
  },
  "language_info": {
   "codemirror_mode": {
    "name": "ipython",
    "version": 3
   },
   "file_extension": ".py",
   "mimetype": "text/x-python",
   "name": "python",
   "nbconvert_exporter": "python",
   "pygments_lexer": "ipython3",
   "version": "3.9.12"
  },
  "varInspector": {
   "cols": {
    "lenName": 16,
    "lenType": 16,
    "lenVar": 40
   },
   "kernels_config": {
    "python": {
     "delete_cmd_postfix": "",
     "delete_cmd_prefix": "del ",
     "library": "var_list.py",
     "varRefreshCmd": "print(var_dic_list())"
    },
    "r": {
     "delete_cmd_postfix": ") ",
     "delete_cmd_prefix": "rm(",
     "library": "var_list.r",
     "varRefreshCmd": "cat(var_dic_list()) "
    }
   },
   "types_to_exclude": [
    "module",
    "function",
    "builtin_function_or_method",
    "instance",
    "_Feature"
   ],
   "window_display": false
  }
 },
 "nbformat": 4,
 "nbformat_minor": 5
}
